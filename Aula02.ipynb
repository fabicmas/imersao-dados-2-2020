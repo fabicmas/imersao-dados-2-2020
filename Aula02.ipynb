{
 "cells": [
  {
   "cell_type": "markdown",
   "metadata": {
    "id": "-oC76B_Dfojm"
   },
   "source": [
    "# Aula02"
   ]
  },
  {
   "cell_type": "code",
   "execution_count": 26,
   "metadata": {
    "colab": {
     "base_uri": "https://localhost:8080/",
     "height": 244
    },
    "id": "z9XYg7h2FcNq",
    "outputId": "4dda9269-5b45-447b-8aa6-0c0e3b272ff2"
   },
   "outputs": [],
   "source": [
    "import pandas as pd"
   ]
  },
  {
   "cell_type": "code",
   "execution_count": 27,
   "metadata": {
    "colab": {
     "base_uri": "https://localhost:8080/",
     "height": 244
    },
    "id": "z9XYg7h2FcNq",
    "outputId": "4dda9269-5b45-447b-8aa6-0c0e3b272ff2"
   },
   "outputs": [],
   "source": [
    "#fonte = \"https://github.com/alura-cursos/imersao-dados-2-2020/blob/master/MICRODADOS_ENEM_2019_SAMPLE_43278.csv?raw=true\"\n",
    "#\n",
    "#dados = pd.read_csv(fonte)\n",
    "#dados.head()"
   ]
  },
  {
   "cell_type": "code",
   "execution_count": 28,
   "metadata": {},
   "outputs": [],
   "source": [
    "#Setando variáveis\n",
    "dados = pd.read_csv(\"MICRODADOS_ENEM_2019_SAMPLE_43278.csv\")\n",
    "provas = [\"NU_NOTA_CN\",\"NU_NOTA_CH\",\"NU_NOTA_MT\",\"NU_NOTA_LC\",\"NU_NOTA_REDACAO\"] #Var criada na aula 1"
   ]
  },
  {
   "cell_type": "code",
   "execution_count": 29,
   "metadata": {
    "colab": {
     "base_uri": "https://localhost:8080/",
     "height": 214
    },
    "id": "nPG7t_YtHI5a",
    "outputId": "c6414a10-4c69-4002-ada7-743ff5453e24"
   },
   "outputs": [
    {
     "data": {
      "text/html": [
       "<div>\n",
       "<style scoped>\n",
       "    .dataframe tbody tr th:only-of-type {\n",
       "        vertical-align: middle;\n",
       "    }\n",
       "\n",
       "    .dataframe tbody tr th {\n",
       "        vertical-align: top;\n",
       "    }\n",
       "\n",
       "    .dataframe thead th {\n",
       "        text-align: right;\n",
       "    }\n",
       "</style>\n",
       "<table border=\"1\" class=\"dataframe\">\n",
       "  <thead>\n",
       "    <tr style=\"text-align: right;\">\n",
       "      <th></th>\n",
       "      <th>NU_INSCRICAO</th>\n",
       "      <th>NU_ANO</th>\n",
       "      <th>CO_MUNICIPIO_RESIDENCIA</th>\n",
       "      <th>NO_MUNICIPIO_RESIDENCIA</th>\n",
       "      <th>CO_UF_RESIDENCIA</th>\n",
       "      <th>SG_UF_RESIDENCIA</th>\n",
       "      <th>NU_IDADE</th>\n",
       "      <th>TP_SEXO</th>\n",
       "      <th>TP_ESTADO_CIVIL</th>\n",
       "      <th>TP_COR_RACA</th>\n",
       "      <th>...</th>\n",
       "      <th>Q016</th>\n",
       "      <th>Q017</th>\n",
       "      <th>Q018</th>\n",
       "      <th>Q019</th>\n",
       "      <th>Q020</th>\n",
       "      <th>Q021</th>\n",
       "      <th>Q022</th>\n",
       "      <th>Q023</th>\n",
       "      <th>Q024</th>\n",
       "      <th>Q025</th>\n",
       "    </tr>\n",
       "  </thead>\n",
       "  <tbody>\n",
       "    <tr>\n",
       "      <th>57359</th>\n",
       "      <td>190003297248</td>\n",
       "      <td>2019</td>\n",
       "      <td>3504107</td>\n",
       "      <td>Atibaia</td>\n",
       "      <td>35</td>\n",
       "      <td>SP</td>\n",
       "      <td>13</td>\n",
       "      <td>F</td>\n",
       "      <td>1</td>\n",
       "      <td>1</td>\n",
       "      <td>...</td>\n",
       "      <td>B</td>\n",
       "      <td>A</td>\n",
       "      <td>A</td>\n",
       "      <td>B</td>\n",
       "      <td>A</td>\n",
       "      <td>A</td>\n",
       "      <td>D</td>\n",
       "      <td>B</td>\n",
       "      <td>B</td>\n",
       "      <td>B</td>\n",
       "    </tr>\n",
       "    <tr>\n",
       "      <th>95630</th>\n",
       "      <td>190004825557</td>\n",
       "      <td>2019</td>\n",
       "      <td>5107602</td>\n",
       "      <td>Rondonópolis</td>\n",
       "      <td>51</td>\n",
       "      <td>MT</td>\n",
       "      <td>13</td>\n",
       "      <td>M</td>\n",
       "      <td>1</td>\n",
       "      <td>1</td>\n",
       "      <td>...</td>\n",
       "      <td>A</td>\n",
       "      <td>A</td>\n",
       "      <td>A</td>\n",
       "      <td>B</td>\n",
       "      <td>B</td>\n",
       "      <td>A</td>\n",
       "      <td>B</td>\n",
       "      <td>A</td>\n",
       "      <td>A</td>\n",
       "      <td>B</td>\n",
       "    </tr>\n",
       "    <tr>\n",
       "      <th>98197</th>\n",
       "      <td>190004926952</td>\n",
       "      <td>2019</td>\n",
       "      <td>1600303</td>\n",
       "      <td>Macapá</td>\n",
       "      <td>16</td>\n",
       "      <td>AP</td>\n",
       "      <td>13</td>\n",
       "      <td>M</td>\n",
       "      <td>1</td>\n",
       "      <td>3</td>\n",
       "      <td>...</td>\n",
       "      <td>B</td>\n",
       "      <td>A</td>\n",
       "      <td>A</td>\n",
       "      <td>C</td>\n",
       "      <td>B</td>\n",
       "      <td>A</td>\n",
       "      <td>E</td>\n",
       "      <td>A</td>\n",
       "      <td>B</td>\n",
       "      <td>B</td>\n",
       "    </tr>\n",
       "    <tr>\n",
       "      <th>116501</th>\n",
       "      <td>190005659236</td>\n",
       "      <td>2019</td>\n",
       "      <td>2917508</td>\n",
       "      <td>Jacobina</td>\n",
       "      <td>29</td>\n",
       "      <td>BA</td>\n",
       "      <td>13</td>\n",
       "      <td>M</td>\n",
       "      <td>1</td>\n",
       "      <td>3</td>\n",
       "      <td>...</td>\n",
       "      <td>B</td>\n",
       "      <td>A</td>\n",
       "      <td>A</td>\n",
       "      <td>D</td>\n",
       "      <td>A</td>\n",
       "      <td>B</td>\n",
       "      <td>C</td>\n",
       "      <td>B</td>\n",
       "      <td>C</td>\n",
       "      <td>B</td>\n",
       "    </tr>\n",
       "  </tbody>\n",
       "</table>\n",
       "<p>4 rows × 136 columns</p>\n",
       "</div>"
      ],
      "text/plain": [
       "        NU_INSCRICAO  NU_ANO  CO_MUNICIPIO_RESIDENCIA NO_MUNICIPIO_RESIDENCIA  \\\n",
       "57359   190003297248    2019                  3504107                 Atibaia   \n",
       "95630   190004825557    2019                  5107602            Rondonópolis   \n",
       "98197   190004926952    2019                  1600303                  Macapá   \n",
       "116501  190005659236    2019                  2917508                Jacobina   \n",
       "\n",
       "        CO_UF_RESIDENCIA SG_UF_RESIDENCIA  NU_IDADE TP_SEXO  TP_ESTADO_CIVIL  \\\n",
       "57359                 35               SP        13       F                1   \n",
       "95630                 51               MT        13       M                1   \n",
       "98197                 16               AP        13       M                1   \n",
       "116501                29               BA        13       M                1   \n",
       "\n",
       "        TP_COR_RACA  ...  Q016  Q017 Q018  Q019 Q020  Q021  Q022  Q023  Q024  \\\n",
       "57359             1  ...     B     A    A     B    A     A     D     B     B   \n",
       "95630             1  ...     A     A    A     B    B     A     B     A     A   \n",
       "98197             3  ...     B     A    A     C    B     A     E     A     B   \n",
       "116501            3  ...     B     A    A     D    A     B     C     B     C   \n",
       "\n",
       "        Q025  \n",
       "57359      B  \n",
       "95630      B  \n",
       "98197      B  \n",
       "116501     B  \n",
       "\n",
       "[4 rows x 136 columns]"
      ]
     },
     "execution_count": 29,
     "metadata": {},
     "output_type": "execute_result"
    }
   ],
   "source": [
    "#Desafio 2 da aula 1\n",
    "dados.query(\"NU_IDADE == 13\")"
   ]
  },
  {
   "cell_type": "code",
   "execution_count": 30,
   "metadata": {
    "colab": {
     "base_uri": "https://localhost:8080/",
     "height": 470
    },
    "id": "b8Z64spVCxEd",
    "outputId": "0f7d1a1e-f53a-4bd3-a2c9-7c9bb79e81a3"
   },
   "outputs": [
    {
     "data": {
      "text/plain": [
       "PE    18\n",
       "CE    15\n",
       "BA    14\n",
       "PA    12\n",
       "SP    11\n",
       "MG    11\n",
       "MA     9\n",
       "GO     7\n",
       "PI     7\n",
       "PB     7\n",
       "DF     4\n",
       "AM     4\n",
       "MT     4\n",
       "TO     3\n",
       "SE     3\n",
       "PR     3\n",
       "RO     2\n",
       "AL     2\n",
       "SC     2\n",
       "RJ     1\n",
       "AP     1\n",
       "RN     1\n",
       "AC     1\n",
       "ES     1\n",
       "RS     1\n",
       "MS     1\n",
       "Name: SG_UF_RESIDENCIA, dtype: int64"
      ]
     },
     "execution_count": 30,
     "metadata": {},
     "output_type": "execute_result"
    }
   ],
   "source": [
    "# Modificando desafio: pessoas com 14 anos ou menos\n",
    "dados.query(\"NU_IDADE <= 14\")[\"SG_UF_RESIDENCIA\"].value_counts()"
   ]
  },
  {
   "cell_type": "code",
   "execution_count": 31,
   "metadata": {
    "colab": {
     "base_uri": "https://localhost:8080/",
     "height": 470
    },
    "id": "sqS5PRDaIXVb",
    "outputId": "c37452f0-19d9-4671-9c66-76f5311d66e0"
   },
   "outputs": [
    {
     "data": {
      "text/plain": [
       "PE    0.124138\n",
       "CE    0.103448\n",
       "BA    0.096552\n",
       "PA    0.082759\n",
       "SP    0.075862\n",
       "MG    0.075862\n",
       "MA    0.062069\n",
       "GO    0.048276\n",
       "PI    0.048276\n",
       "PB    0.048276\n",
       "DF    0.027586\n",
       "AM    0.027586\n",
       "MT    0.027586\n",
       "TO    0.020690\n",
       "SE    0.020690\n",
       "PR    0.020690\n",
       "RO    0.013793\n",
       "AL    0.013793\n",
       "SC    0.013793\n",
       "RJ    0.006897\n",
       "AP    0.006897\n",
       "RN    0.006897\n",
       "AC    0.006897\n",
       "ES    0.006897\n",
       "RS    0.006897\n",
       "MS    0.006897\n",
       "Name: SG_UF_RESIDENCIA, dtype: float64"
      ]
     },
     "execution_count": 31,
     "metadata": {},
     "output_type": "execute_result"
    }
   ],
   "source": [
    "#Passando o normalize para value_counts. Ele nos dá o número relativo (de 0 a 1), que pode ser usado para tirar a proporção\n",
    "dados.query(\"NU_IDADE <= 14\")[\"SG_UF_RESIDENCIA\"].value_counts(normalize=True)"
   ]
  },
  {
   "cell_type": "code",
   "execution_count": 32,
   "metadata": {
    "colab": {
     "base_uri": "https://localhost:8080/",
     "height": 483
    },
    "id": "TLl6Z1IeJJs8",
    "outputId": "4d15bb68-34a3-46f0-ecb3-b4cae94058b9"
   },
   "outputs": [
    {
     "data": {
      "text/plain": [
       "<matplotlib.axes._subplots.AxesSubplot at 0x7fb548c83b20>"
      ]
     },
     "execution_count": 32,
     "metadata": {},
     "output_type": "execute_result"
    },
    {
     "data": {
      "image/png": "[encoded data removed]",
      "text/plain": [
       "<Figure size 720x576 with 1 Axes>"
      ]
     },
     "metadata": {},
     "output_type": "display_data"
    }
   ],
   "source": [
    "# Fazendo gráfico de pizza\n",
    "# Não é fácil fazer comparações neles (ex: CE, BA e PA parecem iguais)\n",
    "alunos_menor_quartoze = dados.query(\"NU_IDADE <= 14\")\n",
    "alunos_menor_quartoze[\"SG_UF_RESIDENCIA\"].value_counts().plot.pie(figsize=(10,8))"
   ]
  },
  {
   "cell_type": "markdown",
   "metadata": {},
   "source": [
    "**OBS: hashable types in python**\n",
    "\n",
    "All built-in immutable types are hashable, but mutable ones are not. Common hashable types include all numbers, strings (both unicode and bytes ) and tuple . Common unhashable types include list , dict and set . In order to store a key in a dict or set a hash value is needed. More on that [here](https://www.pythonforthelab.com/blog/what-are-hashable-objects/).\n"
   ]
  },
  {
   "cell_type": "code",
   "execution_count": 33,
   "metadata": {
    "colab": {
     "base_uri": "https://localhost:8080/",
     "height": 506
    },
    "id": "OKGKHYz7KPcz",
    "outputId": "7777d569-c652-46ab-946f-1e6aa27da83c"
   },
   "outputs": [
    {
     "data": {
      "text/plain": [
       "<matplotlib.axes._subplots.AxesSubplot at 0x7fb546138280>"
      ]
     },
     "execution_count": 33,
     "metadata": {},
     "output_type": "execute_result"
    },
    {
     "data": {
      "image/png": "[encoded data removed]",
      "text/plain": [
       "<Figure size 720x576 with 1 Axes>"
      ]
     },
     "metadata": {
      "needs_background": "light"
     },
     "output_type": "display_data"
    }
   ],
   "source": [
    "#Plotando um gráfico de barras para as porcentagens de alunos com 14 anos ou menos\n",
    "#Mais legível e fácil de comparar\n",
    "alunos_menor_quartoze[\"SG_UF_RESIDENCIA\"].value_counts(normalize = True).plot.bar(figsize=(10,8))"
   ]
  },
  {
   "cell_type": "code",
   "execution_count": 34,
   "metadata": {
    "colab": {
     "base_uri": "https://localhost:8080/",
     "height": 34
    },
    "id": "8pZMPrlWLqxk",
    "outputId": "6494308c-bc25-474f-9a40-a12702ce639e"
   },
   "outputs": [
    {
     "data": {
      "text/plain": [
       "145"
      ]
     },
     "execution_count": 34,
     "metadata": {},
     "output_type": "execute_result"
    }
   ],
   "source": [
    "#Amostra dos alunos menor que quatorze é pequena\n",
    "#Difícil analizar e tirar conclusões com tão poucos alunos\n",
    "len(alunos_menor_quartoze)"
   ]
  },
  {
   "cell_type": "code",
   "execution_count": 35,
   "metadata": {
    "colab": {
     "base_uri": "https://localhost:8080/",
     "height": 530
    },
    "id": "dBj4lqiOM-tL",
    "outputId": "7ed7fcaa-0e91-425c-fa55-4cb0d4110fa9"
   },
   "outputs": [
    {
     "ename": "ModuleNotFoundError",
     "evalue": "No module named 'seaborn'",
     "output_type": "error",
     "traceback": [
      "\u001b[0;31m---------------------------------------------------------------------------\u001b[0m",
      "\u001b[0;31mModuleNotFoundError\u001b[0m                       Traceback (most recent call last)",
      "\u001b[0;32m<ipython-input-35-c737975e4f95>\u001b[0m in \u001b[0;36m<module>\u001b[0;34m\u001b[0m\n\u001b[1;32m      1\u001b[0m \u001b[0;31m#Q006 - Questão sobre a renda mensal da família\u001b[0m\u001b[0;34m\u001b[0m\u001b[0;34m\u001b[0m\u001b[0;34m\u001b[0m\u001b[0m\n\u001b[1;32m      2\u001b[0m \u001b[0;31m#Repare que o eixo x não está ordenado\u001b[0m\u001b[0;34m\u001b[0m\u001b[0;34m\u001b[0m\u001b[0;34m\u001b[0m\u001b[0m\n\u001b[0;32m----> 3\u001b[0;31m \u001b[0;32mimport\u001b[0m \u001b[0mseaborn\u001b[0m \u001b[0;32mas\u001b[0m \u001b[0msns\u001b[0m\u001b[0;34m\u001b[0m\u001b[0;34m\u001b[0m\u001b[0m\n\u001b[0m\u001b[1;32m      4\u001b[0m \u001b[0;32mimport\u001b[0m \u001b[0mmatplotlib\u001b[0m\u001b[0;34m.\u001b[0m\u001b[0mpyplot\u001b[0m \u001b[0;32mas\u001b[0m \u001b[0mplt\u001b[0m\u001b[0;34m\u001b[0m\u001b[0;34m\u001b[0m\u001b[0m\n\u001b[1;32m      5\u001b[0m \u001b[0;34m\u001b[0m\u001b[0m\n",
      "\u001b[0;31mModuleNotFoundError\u001b[0m: No module named 'seaborn'"
     ]
    }
   ],
   "source": [
    "#Q006 - Questão sobre a renda mensal da família\n",
    "#Repare que o eixo x não está ordenado\n",
    "import seaborn as sns\n",
    "import matplotlib.pyplot as plt\n",
    "\n",
    "plt.figure(figsize=(10, 8))\n",
    "sns.boxplot(x=\"Q006\", y = \"NU_NOTA_MT\", data = dados)\n",
    "plt.title(\"Boxplot das notas de matemática pela renda\")"
   ]
  },
  {
   "cell_type": "code",
   "execution_count": null,
   "metadata": {
    "id": "d7ec4hqHOMz0"
   },
   "outputs": [],
   "source": [
    "#Ordenando os dados da questão 6\n",
    "renda_ordenada = dados[\"Q006\"].unique()\n",
    "renda_ordenada.sort()"
   ]
  },
  {
   "cell_type": "code",
   "execution_count": null,
   "metadata": {
    "colab": {
     "base_uri": "https://localhost:8080/",
     "height": 50
    },
    "id": "gmKZikIfPPrD",
    "outputId": "fdf457d5-7b73-47b8-b2bf-831409c200a0"
   },
   "outputs": [],
   "source": [
    "renda_ordenada"
   ]
  },
  {
   "cell_type": "code",
   "execution_count": null,
   "metadata": {
    "colab": {
     "base_uri": "https://localhost:8080/",
     "height": 421
    },
    "id": "Sy5W5bGIPYNv",
    "outputId": "492d8272-390f-4c9c-cafd-c56be97aef0d"
   },
   "outputs": [],
   "source": [
    "#Plotando com o eixo x ordenado\n",
    "plt.figure(figsize=(10, 6))\n",
    "sns.boxplot(x=\"Q006\", y = \"NU_NOTA_MT\", data = dados, order = renda_ordenada)\n",
    "plt.title(\"Boxplot das notas de matemática pela renda\")\n",
    "#Outliers: os whiskers vão chegando cada vez mais próximos do teto.\n",
    "#Logo, o número de outliers acima dos whiskers diminui\n",
    "#E o numero de outliers abaixo aumenta"
   ]
  },
  {
   "cell_type": "code",
   "execution_count": null,
   "metadata": {
    "colab": {
     "base_uri": "https://localhost:8080/",
     "height": 118
    },
    "id": "K_Qk_WbaQuuB",
    "outputId": "451e9d7f-236b-4920-85cd-db91a54aefd4"
   },
   "outputs": [],
   "source": [
    "#Obtendo a nota total (soma de todas as notas)\n",
    "dados[provas].sum()\n",
    "#Usou o eixo 0 (coluna)"
   ]
  },
  {
   "cell_type": "markdown",
   "metadata": {},
   "source": [
    "## Gerando nova coluna com a soma das notas por aluno"
   ]
  },
  {
   "cell_type": "code",
   "execution_count": null,
   "metadata": {
    "colab": {
     "base_uri": "https://localhost:8080/",
     "height": 244
    },
    "id": "eqS_hIkvRA0O",
    "outputId": "b73d79f9-f4d8-4b0f-e387-746c52329c68"
   },
   "outputs": [],
   "source": [
    "#Usando o eixo 1 (linhas) para obter a soma de cada aluno\n",
    "#Inserindo uma nova coluna (\"NU_NOTA_TOTAL\") no dataframe\n",
    "dados[\"NU_NOTA_TOTAL\"] = dados[provas].sum(axis=1)\n",
    "dados.head()"
   ]
  },
  {
   "cell_type": "code",
   "execution_count": null,
   "metadata": {
    "colab": {
     "base_uri": "https://localhost:8080/",
     "height": 421
    },
    "id": "PbqC-d1mRcdQ",
    "outputId": "fbcddf0b-2771-4292-fff0-63ee924c9db6"
   },
   "outputs": [],
   "source": [
    "plt.figure(figsize=(10, 6))\n",
    "sns.boxplot(x=\"Q006\", y = \"NU_NOTA_TOTAL\", data = dados, order = renda_ordenada)\n",
    "plt.title(\"Boxplot das notas de total pela renda\")\n",
    "#Muitas pessoas tiraram 0 em tudo, por vários motivos. Daí o 0 fica no limite do primeiro quartil\n",
    "#Inverso do outro gráfico. Nesse caso, os outliers não aparecem no começo pq tem mta gente no limite mínimo"
   ]
  },
  {
   "cell_type": "code",
   "execution_count": null,
   "metadata": {
    "colab": {
     "base_uri": "https://localhost:8080/",
     "height": 386
    },
    "id": "M1dZw-EUSf03",
    "outputId": "086e49f0-c543-43d9-99f4-98f3fa50ce00"
   },
   "outputs": [],
   "source": [
    "#Plotando histograma da nota total pra tentar entender isso melhor\n",
    "sns.displot(dados, x =\"NU_NOTA_TOTAL\")\n",
    "#0 é a nota mais frequente (moda)\n",
    "#Tem um volume mto grande de pessoas que tiraram 0, mas ao analisar em conjunto com o nosso gráfico\n",
    "#essas notas são mais comuns entre as pessoas com menor renda familiar da nossa amostra"
   ]
  },
  {
   "cell_type": "markdown",
   "metadata": {},
   "source": [
    "## Appending nota total à lista de notas"
   ]
  },
  {
   "cell_type": "code",
   "execution_count": null,
   "metadata": {
    "colab": {
     "base_uri": "https://localhost:8080/",
     "height": 402
    },
    "id": "HX2i1uknS2uT",
    "outputId": "81e83c08-8029-4d07-b3fc-b75f71864863"
   },
   "outputs": [],
   "source": [
    "# O que levou tantas pessoas a tirar nota 0?\n",
    "# Vamos olhar só para essas pessoas\n",
    "\n",
    "provas.append(\"NU_NOTA_TOTAL\") # Adicionando a coluna da nota total à lista de colunas de notas\n",
    "dados[provas].query(\"NU_NOTA_TOTAL == 0\") #Pegando apenas as notas dos alunos que zeraram\n",
    "#Podemos ver que vários valores apresentam NaN (not a number), aparentemente usado quando que é quando a pessoa não foi fazer a prova\n",
    "#Logo, pode ser que as pessoas que tiraram 0 não puderam se locomover para o local da prova, cegaram atrasados, etc.\n",
    "#E isso aparentemente está correlacionado com a renda familiar\n",
    "#Múltiplas hipóteses: \n",
    "## Pessoa precisa trabalhar, não tinha dinheiro pro transporte, perdeu o onibus, que em fds é menos regular, etc...\n",
    "#ENEM e outras provas: viés para as pessoas mais ricas. Tanto por causa do transporte privado quanto outros motivos...\n",
    "\n",
    "#E se não fosse prova presencial? Será que ainda teria viés? Possivelmente sim"
   ]
  },
  {
   "cell_type": "code",
   "execution_count": null,
   "metadata": {
    "colab": {
     "base_uri": "https://localhost:8080/",
     "height": 244
    },
    "id": "GKw2G33sUiHQ",
    "outputId": "d3753f35-c88d-457c-c927-85c96dce3ea6"
   },
   "outputs": [],
   "source": [
    "#Precisamos remover as notas 0 para conseguir de fato analisar o resto\n",
    "#Usa nota total. Pessoa pode ter zerado alguma prova individual\n",
    "dados_sem_notas_zero = dados.query(\"NU_NOTA_TOTAL != 0\")\n",
    "dados_sem_notas_zero.head()"
   ]
  },
  {
   "cell_type": "code",
   "execution_count": null,
   "metadata": {
    "colab": {
     "base_uri": "https://localhost:8080/",
     "height": 421
    },
    "id": "fUEzdhqiXBpv",
    "outputId": "7eb1f1eb-08cb-4720-bb9e-6878174be4a3"
   },
   "outputs": [],
   "source": [
    "#Analisando após limpar os zeros do dataset\n",
    "#O problema do viés persiste\n",
    "plt.figure(figsize=(10, 6))\n",
    "sns.boxplot(x=\"Q006\", y = \"NU_NOTA_TOTAL\", data = dados_sem_notas_zero, order = renda_ordenada)\n",
    "plt.title(\"Boxplot das notas de total pela renda\")"
   ]
  },
  {
   "cell_type": "code",
   "execution_count": null,
   "metadata": {
    "colab": {
     "base_uri": "https://localhost:8080/",
     "height": 530
    },
    "id": "OeFkN4ttXiOH",
    "outputId": "d6c3ddd4-d9a2-4e37-aa09-23ec1c16a77b"
   },
   "outputs": [],
   "source": [
    "#E se quisermos linkar mais informação no boxplot? (e.g. renda E se a pessoa é treineiro)\n",
    "#Com o parâmetro 'hue', dá pra adicionar outras informações e dividir melhor os resultados do gráfico\n",
    "plt.figure(figsize=(14, 8))\n",
    "sns.boxplot(x=\"Q006\", y = \"NU_NOTA_TOTAL\", data = dados_sem_notas_zero, \n",
    "            hue = \"IN_TREINEIRO\", order = renda_ordenada)\n",
    "plt.title(\"Boxplot das notas de total pela renda\")\n",
    "#Rendas mais baixas: Treineiro e não treineiro não tem tanta diferença\n",
    "#Hipótese: Quando a pessoa com dinheiro vai fazer, ela tem condições de se preparar melhor. Pagar cursinho e afins\n",
    "#Ensino de qualidade obviamente impacta mto tbm, já que os treineiros mais ricos inclusive se saem melhor que os não treineiros mais pobres\n",
    "#Obviamente, o número de treineiros e não treineiros é muito diferente também, então é sempre bom tomar cuidado com as afirmações"
   ]
  },
  {
   "cell_type": "markdown",
   "metadata": {
    "id": "FH5KDYQDM_Wi"
   },
   "source": [
    "## MEGA DESAFIO DA THAINÁ: Pegar a amostra completa dos alunos de 13 e 14 anos"
   ]
  },
  {
   "cell_type": "code",
   "execution_count": null,
   "metadata": {},
   "outputs": [],
   "source": [
    "#Not yet"
   ]
  },
  {
   "cell_type": "markdown",
   "metadata": {
    "id": "FH5KDYQDM_Wi"
   },
   "source": [
    "## Desafio do Gui bonzinho: aumentar a amostra para alunos menor de idade e compara a proporção por estado."
   ]
  },
  {
   "cell_type": "code",
   "execution_count": null,
   "metadata": {},
   "outputs": [],
   "source": [
    "dados.query(\"NU_IDADE <18\").SG_UF_RESIDENCIA.value_counts(normalize=True).plot.bar(figsize=(10,8))"
   ]
  },
  {
   "cell_type": "markdown",
   "metadata": {
    "id": "FH5KDYQDM_Wi"
   },
   "source": [
    "## Desafio 3: Criar uma função para plotar o boxplot do seaborn"
   ]
  },
  {
   "cell_type": "code",
   "execution_count": null,
   "metadata": {},
   "outputs": [],
   "source": [
    "def plot_seaborn_boxplot():\n",
    "    "
   ]
  },
  {
   "cell_type": "markdown",
   "metadata": {
    "id": "FH5KDYQDM_Wi"
   },
   "source": [
    "## Desafio 4: Verificar se quem zerou a prova foi eliminado ou não estava presente"
   ]
  },
  {
   "cell_type": "markdown",
   "metadata": {
    "id": "FH5KDYQDM_Wi"
   },
   "source": [
    "## Desafio 5: Quem é eliminado tira zero ou será NaN (não teve registro de notas)"
   ]
  },
  {
   "cell_type": "markdown",
   "metadata": {
    "id": "FH5KDYQDM_Wi"
   },
   "source": [
    "## DEsafio 6: Verificar a proporção dos participantes de rendas mais altas e mais baixas como treineiro e não treineiro."
   ]
  },
  {
   "cell_type": "markdown",
   "metadata": {
    "id": "FH5KDYQDM_Wi"
   },
   "source": [
    "## Desafio 7: Fazer o mesmo boxplot olhando para a questão 25 (tem internet ou não) e fazer uma reflexão sobre o assunto e o contexto de pandemia."
   ]
  }
 ],
 "metadata": {
  "colab": {
   "name": "Aula02.ipynb",
   "provenance": []
  },
  "kernelspec": {
   "display_name": "Python 3",
   "language": "python",
   "name": "python3"
  },
  "language_info": {
   "codemirror_mode": {
    "name": "ipython",
    "version": 3
   },
   "file_extension": ".py",
   "mimetype": "text/x-python",
   "name": "python",
   "nbconvert_exporter": "python",
   "pygments_lexer": "ipython3",
   "version": "3.8.3"
  },
  "toc-autonumbering": true
 },
 "nbformat": 4,
 "nbformat_minor": 4
}
